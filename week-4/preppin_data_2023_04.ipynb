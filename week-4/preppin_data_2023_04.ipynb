{
 "cells": [
  {
   "cell_type": "code",
   "execution_count": 9,
   "metadata": {},
   "outputs": [],
   "source": [
    "import pandas as pd"
   ]
  },
  {
   "cell_type": "code",
   "execution_count": 10,
   "metadata": {},
   "outputs": [
    {
     "name": "stdout",
     "output_type": "stream",
     "text": [
      "Sheet Name: January\n",
      "Column Names: ['ID', 'Joining Day', 'Demographic', 'Value']\n",
      "==================================================\n",
      "Sheet Name: February\n",
      "Column Names: ['ID', 'Joining Day', 'Demographic', 'Value']\n",
      "==================================================\n",
      "Sheet Name: March\n",
      "Column Names: ['ID', 'Joining Day', 'Demographic', 'Value']\n",
      "==================================================\n",
      "Sheet Name: April\n",
      "Column Names: ['ID', 'Joining Day', 'Demographic', 'Value']\n",
      "==================================================\n",
      "Sheet Name: May\n",
      "Column Names: ['ID', 'Joining Day', 'Demographic', 'Value']\n",
      "==================================================\n",
      "Sheet Name: June\n",
      "Column Names: ['ID', 'Joining Day', 'Demographic', 'Value']\n",
      "==================================================\n",
      "Sheet Name: July\n",
      "Column Names: ['ID', 'Joining Day', 'Demographic', 'Value']\n",
      "==================================================\n",
      "Sheet Name: August\n",
      "Column Names: ['ID', 'Joining Day', 'Demographiic', 'Value']\n",
      "==================================================\n",
      "Sheet Name: September\n",
      "Column Names: ['ID', 'Joining Day', 'Demographic', 'Value']\n",
      "==================================================\n",
      "Sheet Name: October\n",
      "Column Names: ['ID', 'Joining Day', 'Demagraphic', 'Value']\n",
      "==================================================\n",
      "Sheet Name: November\n",
      "Column Names: ['ID', 'Joining Day', 'Demographic', 'Value']\n",
      "==================================================\n",
      "Sheet Name: December\n",
      "Column Names: ['ID', 'Joining Day', 'Demographic', 'Value']\n",
      "==================================================\n",
      "Column Names: {'Demographic', 'ID', 'Demagraphic', 'Value', 'Demographiic', 'Joining Day'}\n"
     ]
    }
   ],
   "source": [
    "# Create a set to store the column names\n",
    "column_names = set()\n",
    "\n",
    "# For each sheet in the Excel file, print the column names\n",
    "for sheet in pd.read_excel('./data/input/New Customers.xlsx', sheet_name=None):\n",
    "    # Show the sheet name and the column names for this sheet\n",
    "    print('Sheet Name:', sheet)\n",
    "    sheet_column_names = list(pd.read_excel('./data/input/New Customers.xlsx', sheet_name=sheet).columns)\n",
    "    print('Column Names:', sheet_column_names)\n",
    "    print('='*50)\n",
    "    # Add the column names to the set\n",
    "    column_names.update(sheet_column_names)\n",
    "\n",
    "# Print the set of column names\n",
    "print('Column Names:', column_names)"
   ]
  },
  {
   "attachments": {},
   "cell_type": "markdown",
   "metadata": {},
   "source": [
    "# Preprocessing"
   ]
  },
  {
   "cell_type": "code",
   "execution_count": 11,
   "metadata": {},
   "outputs": [],
   "source": [
    "rename_fields = {\n",
    "    'Demographiic' : 'Demographic', \n",
    "    'Demagraphic' : 'Demographic'\n",
    "}"
   ]
  },
  {
   "cell_type": "code",
   "execution_count": 23,
   "metadata": {},
   "outputs": [
    {
     "data": {
      "text/html": [
       "<div>\n",
       "<style scoped>\n",
       "    .dataframe tbody tr th:only-of-type {\n",
       "        vertical-align: middle;\n",
       "    }\n",
       "\n",
       "    .dataframe tbody tr th {\n",
       "        vertical-align: top;\n",
       "    }\n",
       "\n",
       "    .dataframe thead th {\n",
       "        text-align: right;\n",
       "    }\n",
       "</style>\n",
       "<table border=\"1\" class=\"dataframe\">\n",
       "  <thead>\n",
       "    <tr style=\"text-align: right;\">\n",
       "      <th></th>\n",
       "      <th>ID</th>\n",
       "      <th>Joining Day</th>\n",
       "      <th>Demographic</th>\n",
       "      <th>Value</th>\n",
       "      <th>Month</th>\n",
       "    </tr>\n",
       "  </thead>\n",
       "  <tbody>\n",
       "    <tr>\n",
       "      <th>0</th>\n",
       "      <td>490910</td>\n",
       "      <td>3</td>\n",
       "      <td>Ethnicity</td>\n",
       "      <td>White</td>\n",
       "      <td>January</td>\n",
       "    </tr>\n",
       "    <tr>\n",
       "      <th>1</th>\n",
       "      <td>490910</td>\n",
       "      <td>3</td>\n",
       "      <td>Date of Birth</td>\n",
       "      <td>5/23/1981</td>\n",
       "      <td>January</td>\n",
       "    </tr>\n",
       "    <tr>\n",
       "      <th>2</th>\n",
       "      <td>490910</td>\n",
       "      <td>3</td>\n",
       "      <td>Account Type</td>\n",
       "      <td>Basic</td>\n",
       "      <td>January</td>\n",
       "    </tr>\n",
       "    <tr>\n",
       "      <th>3</th>\n",
       "      <td>369221</td>\n",
       "      <td>18</td>\n",
       "      <td>Ethnicity</td>\n",
       "      <td>Black</td>\n",
       "      <td>January</td>\n",
       "    </tr>\n",
       "    <tr>\n",
       "      <th>4</th>\n",
       "      <td>369221</td>\n",
       "      <td>18</td>\n",
       "      <td>Date of Birth</td>\n",
       "      <td>3/4/2019</td>\n",
       "      <td>January</td>\n",
       "    </tr>\n",
       "  </tbody>\n",
       "</table>\n",
       "</div>"
      ],
      "text/plain": [
       "       ID  Joining Day    Demographic      Value    Month\n",
       "0  490910            3      Ethnicity      White  January\n",
       "1  490910            3  Date of Birth  5/23/1981  January\n",
       "2  490910            3   Account Type      Basic  January\n",
       "3  369221           18      Ethnicity      Black  January\n",
       "4  369221           18  Date of Birth   3/4/2019  January"
      ]
     },
     "execution_count": 23,
     "metadata": {},
     "output_type": "execute_result"
    }
   ],
   "source": [
    "# Open the Excel files in one concatenated dataframe\n",
    "with pd.ExcelFile('./data/input/New Customers.xlsx') as f:\n",
    "    df = pd.concat(\n",
    "        [ ( pd.read_excel(f, sheet_name=sheet)\n",
    "            .assign(Month=sheet)\n",
    "            .rename(columns=rename_fields)\n",
    "        )\n",
    "        for sheet in f.sheet_names]\n",
    "    )\n",
    "\n",
    "df.head()"
   ]
  },
  {
   "cell_type": "code",
   "execution_count": 40,
   "metadata": {},
   "outputs": [],
   "source": [
    "( df\n",
    "    # Make a Joining Date field based on the fields Joining Day and Month. The year is 2023\n",
    "    .assign(Joining_Date = lambda x: pd.to_datetime('2023-' + x['Month'].astype(str) + '-' + x['Joining Day'].astype(str)))\n",
    "    # Reshape the Demographic field into columns - the column names should be the values in the Demographic field\n",
    "    .pivot_table(index=['ID', 'Joining_Date'], columns='Demographic', values='Value', aggfunc='first')\n",
    "    .reset_index()\n",
    "    # Remove any duplicate rows based on ID and Joining Date, keeping the first record\n",
    "    .sort_values(['Joining_Date', 'ID'])\n",
    "    .drop_duplicates(subset=['ID'], keep='first')\n",
    "    # Remove the index name and reset it\n",
    "    .rename_axis(None, axis=1)\n",
    "    .reset_index(drop=True)\n",
    "    # Change the data types of the fields to match the data dictionary\n",
    "    .astype({\n",
    "        'ID': 'int64',\n",
    "        'Joining_Date': 'datetime64[ns]',\n",
    "        'Account Type': 'category',\n",
    "        'Date of Birth': 'datetime64[ns]',\n",
    "        'Ethnicity': 'category'\n",
    "    })\n",
    "    # Format the date fields in the DD/MM/YYYY format\n",
    "    .assign(\n",
    "        Joining_Date = lambda x: x['Joining_Date'].dt.strftime('%d/%m/%Y'),\n",
    "        Date_of_Birth = lambda x: x['Date of Birth'].dt.strftime('%d/%m/%Y')\n",
    "    )\n",
    "    .drop(columns=['Date of Birth'])\n",
    "    .rename(columns={\n",
    "        'Date_of_Birth': 'Date of Birth',\n",
    "        'Joining_Date': 'Joining Date'\n",
    "    })\n",
    "    .to_csv(path_or_buf='./data/output/output_2023_04_.csv', index=False, quoting=1, quotechar='\"', sep=';')\n",
    ")"
   ]
  }
 ],
 "metadata": {
  "kernelspec": {
   "display_name": "preppin-data",
   "language": "python",
   "name": "python3"
  },
  "language_info": {
   "codemirror_mode": {
    "name": "ipython",
    "version": 3
   },
   "file_extension": ".py",
   "mimetype": "text/x-python",
   "name": "python",
   "nbconvert_exporter": "python",
   "pygments_lexer": "ipython3",
   "version": "3.10.8"
  },
  "orig_nbformat": 4
 },
 "nbformat": 4,
 "nbformat_minor": 2
}
